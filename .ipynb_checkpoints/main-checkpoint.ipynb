{
 "cells": [
  {
   "cell_type": "markdown",
   "id": "8f23c886",
   "metadata": {},
   "source": [
    "### importing libraries"
   ]
  },
  {
   "cell_type": "markdown",
   "id": "598606d9",
   "metadata": {},
   "source": [
    "# Data preprocessing"
   ]
  },
  {
   "cell_type": "code",
   "execution_count": 1,
   "id": "7291843d",
   "metadata": {},
   "outputs": [],
   "source": [
    "import pandas as pd\n",
    "import numpy as np\n"
   ]
  },
  {
   "cell_type": "code",
   "execution_count": 2,
   "id": "b8198783",
   "metadata": {},
   "outputs": [],
   "source": [
    "credits=pd.read_csv(\"data/tmdb_5000_credits.csv\")\n",
    "movies=pd.read_csv(\"data/tmdb_5000_movies.csv\")"
   ]
  },
  {
   "cell_type": "code",
   "execution_count": 3,
   "id": "cbcd824e",
   "metadata": {},
   "outputs": [],
   "source": [
    "# credits.head()"
   ]
  },
  {
   "cell_type": "code",
   "execution_count": 4,
   "id": "a294c6b5",
   "metadata": {},
   "outputs": [],
   "source": [
    "# credits.info()\n"
   ]
  },
  {
   "cell_type": "code",
   "execution_count": 5,
   "id": "570c4c3d",
   "metadata": {},
   "outputs": [],
   "source": [
    "# movies.info()"
   ]
  },
  {
   "cell_type": "code",
   "execution_count": 6,
   "id": "0deb2b9a",
   "metadata": {},
   "outputs": [],
   "source": [
    "# movies.head(1)"
   ]
  },
  {
   "cell_type": "code",
   "execution_count": 7,
   "id": "5b3e3db5",
   "metadata": {},
   "outputs": [],
   "source": [
    "# credits.head(1)"
   ]
  },
  {
   "cell_type": "markdown",
   "id": "a4af5b95",
   "metadata": {},
   "source": [
    "# Merging the dataframes"
   ]
  },
  {
   "cell_type": "code",
   "execution_count": 8,
   "id": "4477f6e4",
   "metadata": {},
   "outputs": [],
   "source": [
    "df=movies.merge(credits, on='title')"
   ]
  },
  {
   "cell_type": "code",
   "execution_count": 9,
   "id": "e4e4b09c",
   "metadata": {},
   "outputs": [],
   "source": [
    "# df.info()"
   ]
  },
  {
   "cell_type": "code",
   "execution_count": 10,
   "id": "20c93feb",
   "metadata": {},
   "outputs": [],
   "source": [
    "# df.shape"
   ]
  },
  {
   "cell_type": "code",
   "execution_count": 11,
   "id": "1d79b028",
   "metadata": {},
   "outputs": [],
   "source": [
    "# df.info()"
   ]
  },
  {
   "cell_type": "markdown",
   "id": "646fc34c",
   "metadata": {},
   "source": [
    "# Feature engineering"
   ]
  },
  {
   "cell_type": "raw",
   "id": "5fb4a03c",
   "metadata": {},
   "source": [
    "Dropping the unneccessary features"
   ]
  },
  {
   "cell_type": "code",
   "execution_count": 12,
   "id": "c4cc5712",
   "metadata": {},
   "outputs": [],
   "source": [
    "data=df.drop(['budget','homepage','original_language', 'original_title', 'popularity', 'production_companies' , 'production_countries','release_date', 'revenue', 'runtime', 'spoken_languages', 'status','tagline', 'vote_average',\n",
    " 'vote_count','movie_id'], axis=1)"
   ]
  },
  {
   "cell_type": "code",
   "execution_count": 13,
   "id": "c4a8c87e",
   "metadata": {},
   "outputs": [],
   "source": [
    "# data.info()"
   ]
  },
  {
   "cell_type": "code",
   "execution_count": 14,
   "id": "a279b346",
   "metadata": {},
   "outputs": [],
   "source": [
    "# data.head()"
   ]
  },
  {
   "cell_type": "markdown",
   "id": "b69f4824",
   "metadata": {},
   "source": [
    "checking for null values"
   ]
  },
  {
   "cell_type": "code",
   "execution_count": 15,
   "id": "a6158231",
   "metadata": {},
   "outputs": [
    {
     "data": {
      "text/plain": [
       "genres      0\n",
       "id          0\n",
       "keywords    0\n",
       "overview    3\n",
       "title       0\n",
       "cast        0\n",
       "crew        0\n",
       "dtype: int64"
      ]
     },
     "execution_count": 15,
     "metadata": {},
     "output_type": "execute_result"
    }
   ],
   "source": [
    "data.isnull().sum()"
   ]
  },
  {
   "cell_type": "code",
   "execution_count": 16,
   "id": "f1d7d2ce",
   "metadata": {},
   "outputs": [],
   "source": [
    "data.dropna(inplace=True)"
   ]
  },
  {
   "cell_type": "markdown",
   "id": "c47a3473",
   "metadata": {},
   "source": [
    "# Checking for duplicates"
   ]
  },
  {
   "cell_type": "code",
   "execution_count": 17,
   "id": "a2d3be80",
   "metadata": {},
   "outputs": [
    {
     "data": {
      "text/plain": [
       "0"
      ]
     },
     "execution_count": 17,
     "metadata": {},
     "output_type": "execute_result"
    }
   ],
   "source": [
    "movies.duplicated().sum()"
   ]
  },
  {
   "cell_type": "code",
   "execution_count": 18,
   "id": "a50489ac",
   "metadata": {},
   "outputs": [
    {
     "data": {
      "text/plain": [
       "'[{\"id\": 28, \"name\": \"Action\"}, {\"id\": 12, \"name\": \"Adventure\"}, {\"id\": 14, \"name\": \"Fantasy\"}, {\"id\": 878, \"name\": \"Science Fiction\"}]'"
      ]
     },
     "execution_count": 18,
     "metadata": {},
     "output_type": "execute_result"
    }
   ],
   "source": [
    "l=data.iloc[0]['genres']\n",
    "l"
   ]
  },
  {
   "cell_type": "markdown",
   "id": "54b86daa",
   "metadata": {},
   "source": [
    "Here we can see that the 'genres' have a weird format. We'll have to fix it using some string manipulations."
   ]
  },
  {
   "cell_type": "code",
   "execution_count": 19,
   "id": "8e3df555",
   "metadata": {},
   "outputs": [],
   "source": [
    "import ast\n",
    "def convert(l):\n",
    "    L=[]\n",
    "    for i in ast.literal_eval(l):\n",
    "        L.append(i[\"name\"])\n",
    "    return L\n",
    "    "
   ]
  },
  {
   "cell_type": "markdown",
   "id": "9b706f19",
   "metadata": {},
   "source": [
    "Applying the above function to 'genres', 'cast' and 'keywords' columns."
   ]
  },
  {
   "cell_type": "code",
   "execution_count": 20,
   "id": "74182d8c",
   "metadata": {},
   "outputs": [],
   "source": [
    "data['genres']=data['genres'].apply(convert)\n",
    "data['keywords']=data['keywords'].apply(convert)\n",
    "data['cast']=data['cast'].apply(convert)"
   ]
  },
  {
   "cell_type": "code",
   "execution_count": 21,
   "id": "6bfa5caf",
   "metadata": {},
   "outputs": [],
   "source": [
    "# data.head()"
   ]
  },
  {
   "cell_type": "code",
   "execution_count": 22,
   "id": "8d4172dd",
   "metadata": {},
   "outputs": [],
   "source": [
    "# data['keywords'][0]"
   ]
  },
  {
   "cell_type": "markdown",
   "id": "29400743",
   "metadata": {},
   "source": [
    "We won't include the entire cast of the movie in the recommendation system. Instead, we'll just use the first three names of the actors."
   ]
  },
  {
   "cell_type": "code",
   "execution_count": 23,
   "id": "978cea53",
   "metadata": {},
   "outputs": [],
   "source": [
    "def fetch_first_three(obj):\n",
    "    a=[]\n",
    "    for i in range(len(obj)):\n",
    "        if i<3:\n",
    "            a.append(obj[i])\n",
    "    return a\n",
    "\n",
    "data['cast']=data['cast'].apply(fetch_first_three)"
   ]
  },
  {
   "cell_type": "markdown",
   "id": "404263f4",
   "metadata": {},
   "source": [
    "Fetching the name of the director.\n"
   ]
  },
  {
   "cell_type": "code",
   "execution_count": null,
   "id": "d58c8846",
   "metadata": {},
   "outputs": [],
   "source": []
  },
  {
   "cell_type": "code",
   "execution_count": null,
   "id": "0da424f5",
   "metadata": {},
   "outputs": [],
   "source": []
  },
  {
   "cell_type": "code",
   "execution_count": 24,
   "id": "0bf6964d",
   "metadata": {},
   "outputs": [],
   "source": [
    "# data['crew'][1]"
   ]
  },
  {
   "cell_type": "code",
   "execution_count": 27,
   "id": "eed329c2",
   "metadata": {},
   "outputs": [],
   "source": [
    "def get_director(obj):\n",
    "    ls=[]\n",
    "    for i in ast.literal_eval(obj):\n",
    "        if i['job']=='Director':\n",
    "            ls.append(i[\"name\"])\n",
    "    return ls\n",
    "\n",
    "data['crew']=data['crew'].apply(get_director)"
   ]
  },
  {
   "cell_type": "code",
   "execution_count": null,
   "id": "8a07ff4a",
   "metadata": {},
   "outputs": [],
   "source": []
  },
  {
   "cell_type": "code",
   "execution_count": 28,
   "id": "ec6ab28f",
   "metadata": {},
   "outputs": [
    {
     "data": {
      "text/html": [
       "<div>\n",
       "<style scoped>\n",
       "    .dataframe tbody tr th:only-of-type {\n",
       "        vertical-align: middle;\n",
       "    }\n",
       "\n",
       "    .dataframe tbody tr th {\n",
       "        vertical-align: top;\n",
       "    }\n",
       "\n",
       "    .dataframe thead th {\n",
       "        text-align: right;\n",
       "    }\n",
       "</style>\n",
       "<table border=\"1\" class=\"dataframe\">\n",
       "  <thead>\n",
       "    <tr style=\"text-align: right;\">\n",
       "      <th></th>\n",
       "      <th>genres</th>\n",
       "      <th>id</th>\n",
       "      <th>keywords</th>\n",
       "      <th>overview</th>\n",
       "      <th>title</th>\n",
       "      <th>cast</th>\n",
       "      <th>crew</th>\n",
       "    </tr>\n",
       "  </thead>\n",
       "  <tbody>\n",
       "    <tr>\n",
       "      <th>0</th>\n",
       "      <td>[Action, Adventure, Fantasy, Science Fiction]</td>\n",
       "      <td>19995</td>\n",
       "      <td>[culture clash, future, space war, space colon...</td>\n",
       "      <td>In the 22nd century, a paraplegic Marine is di...</td>\n",
       "      <td>Avatar</td>\n",
       "      <td>[Sam Worthington, Zoe Saldana, Sigourney Weaver]</td>\n",
       "      <td>[James Cameron]</td>\n",
       "    </tr>\n",
       "    <tr>\n",
       "      <th>1</th>\n",
       "      <td>[Adventure, Fantasy, Action]</td>\n",
       "      <td>285</td>\n",
       "      <td>[ocean, drug abuse, exotic island, east india ...</td>\n",
       "      <td>Captain Barbossa, long believed to be dead, ha...</td>\n",
       "      <td>Pirates of the Caribbean: At World's End</td>\n",
       "      <td>[Johnny Depp, Orlando Bloom, Keira Knightley]</td>\n",
       "      <td>[Gore Verbinski]</td>\n",
       "    </tr>\n",
       "    <tr>\n",
       "      <th>2</th>\n",
       "      <td>[Action, Adventure, Crime]</td>\n",
       "      <td>206647</td>\n",
       "      <td>[spy, based on novel, secret agent, sequel, mi...</td>\n",
       "      <td>A cryptic message from Bond’s past sends him o...</td>\n",
       "      <td>Spectre</td>\n",
       "      <td>[Daniel Craig, Christoph Waltz, Léa Seydoux]</td>\n",
       "      <td>[Sam Mendes]</td>\n",
       "    </tr>\n",
       "    <tr>\n",
       "      <th>3</th>\n",
       "      <td>[Action, Crime, Drama, Thriller]</td>\n",
       "      <td>49026</td>\n",
       "      <td>[dc comics, crime fighter, terrorist, secret i...</td>\n",
       "      <td>Following the death of District Attorney Harve...</td>\n",
       "      <td>The Dark Knight Rises</td>\n",
       "      <td>[Christian Bale, Michael Caine, Gary Oldman]</td>\n",
       "      <td>[Christopher Nolan]</td>\n",
       "    </tr>\n",
       "    <tr>\n",
       "      <th>4</th>\n",
       "      <td>[Action, Adventure, Science Fiction]</td>\n",
       "      <td>49529</td>\n",
       "      <td>[based on novel, mars, medallion, space travel...</td>\n",
       "      <td>John Carter is a war-weary, former military ca...</td>\n",
       "      <td>John Carter</td>\n",
       "      <td>[Taylor Kitsch, Lynn Collins, Samantha Morton]</td>\n",
       "      <td>[Andrew Stanton]</td>\n",
       "    </tr>\n",
       "  </tbody>\n",
       "</table>\n",
       "</div>"
      ],
      "text/plain": [
       "                                          genres      id  \\\n",
       "0  [Action, Adventure, Fantasy, Science Fiction]   19995   \n",
       "1                   [Adventure, Fantasy, Action]     285   \n",
       "2                     [Action, Adventure, Crime]  206647   \n",
       "3               [Action, Crime, Drama, Thriller]   49026   \n",
       "4           [Action, Adventure, Science Fiction]   49529   \n",
       "\n",
       "                                            keywords  \\\n",
       "0  [culture clash, future, space war, space colon...   \n",
       "1  [ocean, drug abuse, exotic island, east india ...   \n",
       "2  [spy, based on novel, secret agent, sequel, mi...   \n",
       "3  [dc comics, crime fighter, terrorist, secret i...   \n",
       "4  [based on novel, mars, medallion, space travel...   \n",
       "\n",
       "                                            overview  \\\n",
       "0  In the 22nd century, a paraplegic Marine is di...   \n",
       "1  Captain Barbossa, long believed to be dead, ha...   \n",
       "2  A cryptic message from Bond’s past sends him o...   \n",
       "3  Following the death of District Attorney Harve...   \n",
       "4  John Carter is a war-weary, former military ca...   \n",
       "\n",
       "                                      title  \\\n",
       "0                                    Avatar   \n",
       "1  Pirates of the Caribbean: At World's End   \n",
       "2                                   Spectre   \n",
       "3                     The Dark Knight Rises   \n",
       "4                               John Carter   \n",
       "\n",
       "                                               cast                 crew  \n",
       "0  [Sam Worthington, Zoe Saldana, Sigourney Weaver]      [James Cameron]  \n",
       "1     [Johnny Depp, Orlando Bloom, Keira Knightley]     [Gore Verbinski]  \n",
       "2      [Daniel Craig, Christoph Waltz, Léa Seydoux]         [Sam Mendes]  \n",
       "3      [Christian Bale, Michael Caine, Gary Oldman]  [Christopher Nolan]  \n",
       "4    [Taylor Kitsch, Lynn Collins, Samantha Morton]     [Andrew Stanton]  "
      ]
     },
     "execution_count": 28,
     "metadata": {},
     "output_type": "execute_result"
    }
   ],
   "source": [
    "data.head()"
   ]
  },
  {
   "cell_type": "markdown",
   "id": "6f8a7966",
   "metadata": {},
   "source": [
    "We will also need to remove spaces between the names of the cast and crew."
   ]
  },
  {
   "cell_type": "code",
   "execution_count": 29,
   "id": "59c21e89",
   "metadata": {},
   "outputs": [],
   "source": [
    "def remove_space(obj):\n",
    "    no_sapce_lst=[]\n",
    "    for i in obj:\n",
    "        no_sapce_lst.append(i.replace(\" \", \"\"))\n",
    "    return no_sapce_lst\n",
    "\n",
    "# Modifying the overview column\n",
    "def modify_overview(obj):\n",
    "    return obj.split()\n",
    "\n"
   ]
  },
  {
   "cell_type": "code",
   "execution_count": 30,
   "id": "b20247b0",
   "metadata": {},
   "outputs": [],
   "source": [
    "data['cast']=data['cast'].apply(remove_space)\n",
    "data['crew']=data['crew'].apply(remove_space)\n",
    "data['keywords']=data['keywords'].apply(remove_space)\n",
    "data['overview']=data['overview'].apply(modify_overview)"
   ]
  },
  {
   "cell_type": "code",
   "execution_count": null,
   "id": "59550a2d",
   "metadata": {},
   "outputs": [],
   "source": [
    "\n"
   ]
  },
  {
   "cell_type": "code",
   "execution_count": null,
   "id": "d2d01dcb",
   "metadata": {},
   "outputs": [],
   "source": []
  },
  {
   "cell_type": "code",
   "execution_count": null,
   "id": "5651db8a",
   "metadata": {},
   "outputs": [],
   "source": []
  },
  {
   "cell_type": "code",
   "execution_count": null,
   "id": "d64146d1",
   "metadata": {},
   "outputs": [],
   "source": []
  },
  {
   "cell_type": "code",
   "execution_count": null,
   "id": "e83c39c7",
   "metadata": {},
   "outputs": [],
   "source": []
  },
  {
   "cell_type": "code",
   "execution_count": null,
   "id": "716d3aae",
   "metadata": {},
   "outputs": [],
   "source": []
  },
  {
   "cell_type": "markdown",
   "id": "28da3a06",
   "metadata": {},
   "source": [
    "# Concatenating all the features to create a single feature"
   ]
  },
  {
   "cell_type": "code",
   "execution_count": 31,
   "id": "a9aeafcd",
   "metadata": {},
   "outputs": [],
   "source": [
    "data['tags']=data['overview']+data['genres']+data['keywords']+data['cast']+data['crew']"
   ]
  },
  {
   "cell_type": "code",
   "execution_count": 32,
   "id": "ce1f8128",
   "metadata": {},
   "outputs": [
    {
     "data": {
      "text/html": [
       "<div>\n",
       "<style scoped>\n",
       "    .dataframe tbody tr th:only-of-type {\n",
       "        vertical-align: middle;\n",
       "    }\n",
       "\n",
       "    .dataframe tbody tr th {\n",
       "        vertical-align: top;\n",
       "    }\n",
       "\n",
       "    .dataframe thead th {\n",
       "        text-align: right;\n",
       "    }\n",
       "</style>\n",
       "<table border=\"1\" class=\"dataframe\">\n",
       "  <thead>\n",
       "    <tr style=\"text-align: right;\">\n",
       "      <th></th>\n",
       "      <th>genres</th>\n",
       "      <th>id</th>\n",
       "      <th>keywords</th>\n",
       "      <th>overview</th>\n",
       "      <th>title</th>\n",
       "      <th>cast</th>\n",
       "      <th>crew</th>\n",
       "      <th>tags</th>\n",
       "    </tr>\n",
       "  </thead>\n",
       "  <tbody>\n",
       "    <tr>\n",
       "      <th>0</th>\n",
       "      <td>[Action, Adventure, Fantasy, Science Fiction]</td>\n",
       "      <td>19995</td>\n",
       "      <td>[cultureclash, future, spacewar, spacecolony, ...</td>\n",
       "      <td>[In, the, 22nd, century,, a, paraplegic, Marin...</td>\n",
       "      <td>Avatar</td>\n",
       "      <td>[SamWorthington, ZoeSaldana, SigourneyWeaver]</td>\n",
       "      <td>[JamesCameron]</td>\n",
       "      <td>[In, the, 22nd, century,, a, paraplegic, Marin...</td>\n",
       "    </tr>\n",
       "    <tr>\n",
       "      <th>1</th>\n",
       "      <td>[Adventure, Fantasy, Action]</td>\n",
       "      <td>285</td>\n",
       "      <td>[ocean, drugabuse, exoticisland, eastindiatrad...</td>\n",
       "      <td>[Captain, Barbossa,, long, believed, to, be, d...</td>\n",
       "      <td>Pirates of the Caribbean: At World's End</td>\n",
       "      <td>[JohnnyDepp, OrlandoBloom, KeiraKnightley]</td>\n",
       "      <td>[GoreVerbinski]</td>\n",
       "      <td>[Captain, Barbossa,, long, believed, to, be, d...</td>\n",
       "    </tr>\n",
       "    <tr>\n",
       "      <th>2</th>\n",
       "      <td>[Action, Adventure, Crime]</td>\n",
       "      <td>206647</td>\n",
       "      <td>[spy, basedonnovel, secretagent, sequel, mi6, ...</td>\n",
       "      <td>[A, cryptic, message, from, Bond’s, past, send...</td>\n",
       "      <td>Spectre</td>\n",
       "      <td>[DanielCraig, ChristophWaltz, LéaSeydoux]</td>\n",
       "      <td>[SamMendes]</td>\n",
       "      <td>[A, cryptic, message, from, Bond’s, past, send...</td>\n",
       "    </tr>\n",
       "    <tr>\n",
       "      <th>3</th>\n",
       "      <td>[Action, Crime, Drama, Thriller]</td>\n",
       "      <td>49026</td>\n",
       "      <td>[dccomics, crimefighter, terrorist, secretiden...</td>\n",
       "      <td>[Following, the, death, of, District, Attorney...</td>\n",
       "      <td>The Dark Knight Rises</td>\n",
       "      <td>[ChristianBale, MichaelCaine, GaryOldman]</td>\n",
       "      <td>[ChristopherNolan]</td>\n",
       "      <td>[Following, the, death, of, District, Attorney...</td>\n",
       "    </tr>\n",
       "    <tr>\n",
       "      <th>4</th>\n",
       "      <td>[Action, Adventure, Science Fiction]</td>\n",
       "      <td>49529</td>\n",
       "      <td>[basedonnovel, mars, medallion, spacetravel, p...</td>\n",
       "      <td>[John, Carter, is, a, war-weary,, former, mili...</td>\n",
       "      <td>John Carter</td>\n",
       "      <td>[TaylorKitsch, LynnCollins, SamanthaMorton]</td>\n",
       "      <td>[AndrewStanton]</td>\n",
       "      <td>[John, Carter, is, a, war-weary,, former, mili...</td>\n",
       "    </tr>\n",
       "  </tbody>\n",
       "</table>\n",
       "</div>"
      ],
      "text/plain": [
       "                                          genres      id  \\\n",
       "0  [Action, Adventure, Fantasy, Science Fiction]   19995   \n",
       "1                   [Adventure, Fantasy, Action]     285   \n",
       "2                     [Action, Adventure, Crime]  206647   \n",
       "3               [Action, Crime, Drama, Thriller]   49026   \n",
       "4           [Action, Adventure, Science Fiction]   49529   \n",
       "\n",
       "                                            keywords  \\\n",
       "0  [cultureclash, future, spacewar, spacecolony, ...   \n",
       "1  [ocean, drugabuse, exoticisland, eastindiatrad...   \n",
       "2  [spy, basedonnovel, secretagent, sequel, mi6, ...   \n",
       "3  [dccomics, crimefighter, terrorist, secretiden...   \n",
       "4  [basedonnovel, mars, medallion, spacetravel, p...   \n",
       "\n",
       "                                            overview  \\\n",
       "0  [In, the, 22nd, century,, a, paraplegic, Marin...   \n",
       "1  [Captain, Barbossa,, long, believed, to, be, d...   \n",
       "2  [A, cryptic, message, from, Bond’s, past, send...   \n",
       "3  [Following, the, death, of, District, Attorney...   \n",
       "4  [John, Carter, is, a, war-weary,, former, mili...   \n",
       "\n",
       "                                      title  \\\n",
       "0                                    Avatar   \n",
       "1  Pirates of the Caribbean: At World's End   \n",
       "2                                   Spectre   \n",
       "3                     The Dark Knight Rises   \n",
       "4                               John Carter   \n",
       "\n",
       "                                            cast                crew  \\\n",
       "0  [SamWorthington, ZoeSaldana, SigourneyWeaver]      [JamesCameron]   \n",
       "1     [JohnnyDepp, OrlandoBloom, KeiraKnightley]     [GoreVerbinski]   \n",
       "2      [DanielCraig, ChristophWaltz, LéaSeydoux]         [SamMendes]   \n",
       "3      [ChristianBale, MichaelCaine, GaryOldman]  [ChristopherNolan]   \n",
       "4    [TaylorKitsch, LynnCollins, SamanthaMorton]     [AndrewStanton]   \n",
       "\n",
       "                                                tags  \n",
       "0  [In, the, 22nd, century,, a, paraplegic, Marin...  \n",
       "1  [Captain, Barbossa,, long, believed, to, be, d...  \n",
       "2  [A, cryptic, message, from, Bond’s, past, send...  \n",
       "3  [Following, the, death, of, District, Attorney...  \n",
       "4  [John, Carter, is, a, war-weary,, former, mili...  "
      ]
     },
     "execution_count": 32,
     "metadata": {},
     "output_type": "execute_result"
    }
   ],
   "source": [
    "data.head()"
   ]
  },
  {
   "cell_type": "code",
   "execution_count": null,
   "id": "9ae6546a",
   "metadata": {},
   "outputs": [],
   "source": [
    "# data=data.drop(['genres', 'keywords', 'overview','cast', 'crew'], axis=1)"
   ]
  },
  {
   "cell_type": "code",
   "execution_count": null,
   "id": "359936b4",
   "metadata": {},
   "outputs": [],
   "source": [
    "# data.head()"
   ]
  },
  {
   "cell_type": "code",
   "execution_count": 33,
   "id": "b6eb84f0",
   "metadata": {},
   "outputs": [
    {
     "data": {
      "text/html": [
       "<div>\n",
       "<style scoped>\n",
       "    .dataframe tbody tr th:only-of-type {\n",
       "        vertical-align: middle;\n",
       "    }\n",
       "\n",
       "    .dataframe tbody tr th {\n",
       "        vertical-align: top;\n",
       "    }\n",
       "\n",
       "    .dataframe thead th {\n",
       "        text-align: right;\n",
       "    }\n",
       "</style>\n",
       "<table border=\"1\" class=\"dataframe\">\n",
       "  <thead>\n",
       "    <tr style=\"text-align: right;\">\n",
       "      <th></th>\n",
       "      <th>id</th>\n",
       "      <th>title</th>\n",
       "      <th>tags</th>\n",
       "    </tr>\n",
       "  </thead>\n",
       "  <tbody>\n",
       "    <tr>\n",
       "      <th>0</th>\n",
       "      <td>19995</td>\n",
       "      <td>Avatar</td>\n",
       "      <td>[In, the, 22nd, century,, a, paraplegic, Marin...</td>\n",
       "    </tr>\n",
       "    <tr>\n",
       "      <th>1</th>\n",
       "      <td>285</td>\n",
       "      <td>Pirates of the Caribbean: At World's End</td>\n",
       "      <td>[Captain, Barbossa,, long, believed, to, be, d...</td>\n",
       "    </tr>\n",
       "    <tr>\n",
       "      <th>2</th>\n",
       "      <td>206647</td>\n",
       "      <td>Spectre</td>\n",
       "      <td>[A, cryptic, message, from, Bond’s, past, send...</td>\n",
       "    </tr>\n",
       "    <tr>\n",
       "      <th>3</th>\n",
       "      <td>49026</td>\n",
       "      <td>The Dark Knight Rises</td>\n",
       "      <td>[Following, the, death, of, District, Attorney...</td>\n",
       "    </tr>\n",
       "    <tr>\n",
       "      <th>4</th>\n",
       "      <td>49529</td>\n",
       "      <td>John Carter</td>\n",
       "      <td>[John, Carter, is, a, war-weary,, former, mili...</td>\n",
       "    </tr>\n",
       "  </tbody>\n",
       "</table>\n",
       "</div>"
      ],
      "text/plain": [
       "       id                                     title  \\\n",
       "0   19995                                    Avatar   \n",
       "1     285  Pirates of the Caribbean: At World's End   \n",
       "2  206647                                   Spectre   \n",
       "3   49026                     The Dark Knight Rises   \n",
       "4   49529                               John Carter   \n",
       "\n",
       "                                                tags  \n",
       "0  [In, the, 22nd, century,, a, paraplegic, Marin...  \n",
       "1  [Captain, Barbossa,, long, believed, to, be, d...  \n",
       "2  [A, cryptic, message, from, Bond’s, past, send...  \n",
       "3  [Following, the, death, of, District, Attorney...  \n",
       "4  [John, Carter, is, a, war-weary,, former, mili...  "
      ]
     },
     "execution_count": 33,
     "metadata": {},
     "output_type": "execute_result"
    }
   ],
   "source": [
    "new_df=data[['id', 'title', 'tags']]\n",
    "new_df.head()\n"
   ]
  },
  {
   "cell_type": "markdown",
   "id": "a6e4c84d",
   "metadata": {},
   "source": [
    "Converting tags to list"
   ]
  },
  {
   "cell_type": "code",
   "execution_count": 34,
   "id": "1f8a0f62",
   "metadata": {},
   "outputs": [
    {
     "name": "stderr",
     "output_type": "stream",
     "text": [
      "/tmp/ipykernel_55672/1950254380.py:6: SettingWithCopyWarning: \n",
      "A value is trying to be set on a copy of a slice from a DataFrame.\n",
      "Try using .loc[row_indexer,col_indexer] = value instead\n",
      "\n",
      "See the caveats in the documentation: https://pandas.pydata.org/pandas-docs/stable/user_guide/indexing.html#returning-a-view-versus-a-copy\n",
      "  new_df['tags']=new_df['tags'].apply(to_string)\n"
     ]
    }
   ],
   "source": [
    "def to_string(obj):\n",
    "    new_lst=[]\n",
    "    new_lst.append(\" \".join(obj))\n",
    "    return new_lst\n",
    "\n",
    "new_df['tags']=new_df['tags'].apply(to_string)\n"
   ]
  },
  {
   "cell_type": "code",
   "execution_count": 35,
   "id": "6d02a739",
   "metadata": {},
   "outputs": [
    {
     "data": {
      "text/plain": [
       "['In the 22nd century, a paraplegic Marine is dispatched to the moon Pandora on a unique mission, but becomes torn between following orders and protecting an alien civilization. Action Adventure Fantasy Science Fiction cultureclash future spacewar spacecolony society spacetravel futuristic romance space alien tribe alienplanet cgi marine soldier battle loveaffair antiwar powerrelations mindandsoul 3d SamWorthington ZoeSaldana SigourneyWeaver JamesCameron']"
      ]
     },
     "execution_count": 35,
     "metadata": {},
     "output_type": "execute_result"
    }
   ],
   "source": [
    "new_df['tags'][0]"
   ]
  },
  {
   "cell_type": "code",
   "execution_count": 36,
   "id": "b7dfb963",
   "metadata": {},
   "outputs": [
    {
     "data": {
      "text/html": [
       "<div>\n",
       "<style scoped>\n",
       "    .dataframe tbody tr th:only-of-type {\n",
       "        vertical-align: middle;\n",
       "    }\n",
       "\n",
       "    .dataframe tbody tr th {\n",
       "        vertical-align: top;\n",
       "    }\n",
       "\n",
       "    .dataframe thead th {\n",
       "        text-align: right;\n",
       "    }\n",
       "</style>\n",
       "<table border=\"1\" class=\"dataframe\">\n",
       "  <thead>\n",
       "    <tr style=\"text-align: right;\">\n",
       "      <th></th>\n",
       "      <th>id</th>\n",
       "      <th>title</th>\n",
       "      <th>tags</th>\n",
       "    </tr>\n",
       "  </thead>\n",
       "  <tbody>\n",
       "    <tr>\n",
       "      <th>0</th>\n",
       "      <td>19995</td>\n",
       "      <td>Avatar</td>\n",
       "      <td>[In the 22nd century, a paraplegic Marine is d...</td>\n",
       "    </tr>\n",
       "    <tr>\n",
       "      <th>1</th>\n",
       "      <td>285</td>\n",
       "      <td>Pirates of the Caribbean: At World's End</td>\n",
       "      <td>[Captain Barbossa, long believed to be dead, h...</td>\n",
       "    </tr>\n",
       "    <tr>\n",
       "      <th>2</th>\n",
       "      <td>206647</td>\n",
       "      <td>Spectre</td>\n",
       "      <td>[A cryptic message from Bond’s past sends him ...</td>\n",
       "    </tr>\n",
       "    <tr>\n",
       "      <th>3</th>\n",
       "      <td>49026</td>\n",
       "      <td>The Dark Knight Rises</td>\n",
       "      <td>[Following the death of District Attorney Harv...</td>\n",
       "    </tr>\n",
       "    <tr>\n",
       "      <th>4</th>\n",
       "      <td>49529</td>\n",
       "      <td>John Carter</td>\n",
       "      <td>[John Carter is a war-weary, former military c...</td>\n",
       "    </tr>\n",
       "    <tr>\n",
       "      <th>...</th>\n",
       "      <td>...</td>\n",
       "      <td>...</td>\n",
       "      <td>...</td>\n",
       "    </tr>\n",
       "    <tr>\n",
       "      <th>4804</th>\n",
       "      <td>9367</td>\n",
       "      <td>El Mariachi</td>\n",
       "      <td>[El Mariachi just wants to play his guitar and...</td>\n",
       "    </tr>\n",
       "    <tr>\n",
       "      <th>4805</th>\n",
       "      <td>72766</td>\n",
       "      <td>Newlyweds</td>\n",
       "      <td>[A newlywed couple's honeymoon is upended by t...</td>\n",
       "    </tr>\n",
       "    <tr>\n",
       "      <th>4806</th>\n",
       "      <td>231617</td>\n",
       "      <td>Signed, Sealed, Delivered</td>\n",
       "      <td>[\"Signed, Sealed, Delivered\" introduces a dedi...</td>\n",
       "    </tr>\n",
       "    <tr>\n",
       "      <th>4807</th>\n",
       "      <td>126186</td>\n",
       "      <td>Shanghai Calling</td>\n",
       "      <td>[When ambitious New York attorney Sam is sent ...</td>\n",
       "    </tr>\n",
       "    <tr>\n",
       "      <th>4808</th>\n",
       "      <td>25975</td>\n",
       "      <td>My Date with Drew</td>\n",
       "      <td>[Ever since the second grade when he first saw...</td>\n",
       "    </tr>\n",
       "  </tbody>\n",
       "</table>\n",
       "<p>4806 rows × 3 columns</p>\n",
       "</div>"
      ],
      "text/plain": [
       "          id                                     title  \\\n",
       "0      19995                                    Avatar   \n",
       "1        285  Pirates of the Caribbean: At World's End   \n",
       "2     206647                                   Spectre   \n",
       "3      49026                     The Dark Knight Rises   \n",
       "4      49529                               John Carter   \n",
       "...      ...                                       ...   \n",
       "4804    9367                               El Mariachi   \n",
       "4805   72766                                 Newlyweds   \n",
       "4806  231617                 Signed, Sealed, Delivered   \n",
       "4807  126186                          Shanghai Calling   \n",
       "4808   25975                         My Date with Drew   \n",
       "\n",
       "                                                   tags  \n",
       "0     [In the 22nd century, a paraplegic Marine is d...  \n",
       "1     [Captain Barbossa, long believed to be dead, h...  \n",
       "2     [A cryptic message from Bond’s past sends him ...  \n",
       "3     [Following the death of District Attorney Harv...  \n",
       "4     [John Carter is a war-weary, former military c...  \n",
       "...                                                 ...  \n",
       "4804  [El Mariachi just wants to play his guitar and...  \n",
       "4805  [A newlywed couple's honeymoon is upended by t...  \n",
       "4806  [\"Signed, Sealed, Delivered\" introduces a dedi...  \n",
       "4807  [When ambitious New York attorney Sam is sent ...  \n",
       "4808  [Ever since the second grade when he first saw...  \n",
       "\n",
       "[4806 rows x 3 columns]"
      ]
     },
     "execution_count": 36,
     "metadata": {},
     "output_type": "execute_result"
    }
   ],
   "source": [
    "new_df"
   ]
  },
  {
   "cell_type": "markdown",
   "id": "6ce4d4d2",
   "metadata": {},
   "source": [
    "# Convert everything to lowercase (recommendation)"
   ]
  },
  {
   "cell_type": "code",
   "execution_count": 37,
   "id": "ebcaff32",
   "metadata": {},
   "outputs": [
    {
     "name": "stderr",
     "output_type": "stream",
     "text": [
      "/tmp/ipykernel_55672/2757136986.py:6: SettingWithCopyWarning: \n",
      "A value is trying to be set on a copy of a slice from a DataFrame.\n",
      "Try using .loc[row_indexer,col_indexer] = value instead\n",
      "\n",
      "See the caveats in the documentation: https://pandas.pydata.org/pandas-docs/stable/user_guide/indexing.html#returning-a-view-versus-a-copy\n",
      "  new_df['tags']=new_df['tags'].apply(lowercase)\n"
     ]
    }
   ],
   "source": [
    "def lowercase(obj):\n",
    "    lower=[]\n",
    "    for i in obj:\n",
    "        lower.append(i.lower())\n",
    "    return lower\n",
    "new_df['tags']=new_df['tags'].apply(lowercase)"
   ]
  },
  {
   "cell_type": "code",
   "execution_count": 38,
   "id": "92bca8a6",
   "metadata": {},
   "outputs": [
    {
     "data": {
      "text/plain": [
       "['in the 22nd century, a paraplegic marine is dispatched to the moon pandora on a unique mission, but becomes torn between following orders and protecting an alien civilization. action adventure fantasy science fiction cultureclash future spacewar spacecolony society spacetravel futuristic romance space alien tribe alienplanet cgi marine soldier battle loveaffair antiwar powerrelations mindandsoul 3d samworthington zoesaldana sigourneyweaver jamescameron']"
      ]
     },
     "execution_count": 38,
     "metadata": {},
     "output_type": "execute_result"
    }
   ],
   "source": [
    "new_df['tags'][0]"
   ]
  },
  {
   "cell_type": "code",
   "execution_count": 39,
   "id": "69ca45e4",
   "metadata": {},
   "outputs": [
    {
     "data": {
      "text/html": [
       "<div>\n",
       "<style scoped>\n",
       "    .dataframe tbody tr th:only-of-type {\n",
       "        vertical-align: middle;\n",
       "    }\n",
       "\n",
       "    .dataframe tbody tr th {\n",
       "        vertical-align: top;\n",
       "    }\n",
       "\n",
       "    .dataframe thead th {\n",
       "        text-align: right;\n",
       "    }\n",
       "</style>\n",
       "<table border=\"1\" class=\"dataframe\">\n",
       "  <thead>\n",
       "    <tr style=\"text-align: right;\">\n",
       "      <th></th>\n",
       "      <th>id</th>\n",
       "      <th>title</th>\n",
       "      <th>tags</th>\n",
       "    </tr>\n",
       "  </thead>\n",
       "  <tbody>\n",
       "    <tr>\n",
       "      <th>0</th>\n",
       "      <td>19995</td>\n",
       "      <td>Avatar</td>\n",
       "      <td>[in the 22nd century, a paraplegic marine is d...</td>\n",
       "    </tr>\n",
       "    <tr>\n",
       "      <th>1</th>\n",
       "      <td>285</td>\n",
       "      <td>Pirates of the Caribbean: At World's End</td>\n",
       "      <td>[captain barbossa, long believed to be dead, h...</td>\n",
       "    </tr>\n",
       "    <tr>\n",
       "      <th>2</th>\n",
       "      <td>206647</td>\n",
       "      <td>Spectre</td>\n",
       "      <td>[a cryptic message from bond’s past sends him ...</td>\n",
       "    </tr>\n",
       "    <tr>\n",
       "      <th>3</th>\n",
       "      <td>49026</td>\n",
       "      <td>The Dark Knight Rises</td>\n",
       "      <td>[following the death of district attorney harv...</td>\n",
       "    </tr>\n",
       "    <tr>\n",
       "      <th>4</th>\n",
       "      <td>49529</td>\n",
       "      <td>John Carter</td>\n",
       "      <td>[john carter is a war-weary, former military c...</td>\n",
       "    </tr>\n",
       "    <tr>\n",
       "      <th>...</th>\n",
       "      <td>...</td>\n",
       "      <td>...</td>\n",
       "      <td>...</td>\n",
       "    </tr>\n",
       "    <tr>\n",
       "      <th>4804</th>\n",
       "      <td>9367</td>\n",
       "      <td>El Mariachi</td>\n",
       "      <td>[el mariachi just wants to play his guitar and...</td>\n",
       "    </tr>\n",
       "    <tr>\n",
       "      <th>4805</th>\n",
       "      <td>72766</td>\n",
       "      <td>Newlyweds</td>\n",
       "      <td>[a newlywed couple's honeymoon is upended by t...</td>\n",
       "    </tr>\n",
       "    <tr>\n",
       "      <th>4806</th>\n",
       "      <td>231617</td>\n",
       "      <td>Signed, Sealed, Delivered</td>\n",
       "      <td>[\"signed, sealed, delivered\" introduces a dedi...</td>\n",
       "    </tr>\n",
       "    <tr>\n",
       "      <th>4807</th>\n",
       "      <td>126186</td>\n",
       "      <td>Shanghai Calling</td>\n",
       "      <td>[when ambitious new york attorney sam is sent ...</td>\n",
       "    </tr>\n",
       "    <tr>\n",
       "      <th>4808</th>\n",
       "      <td>25975</td>\n",
       "      <td>My Date with Drew</td>\n",
       "      <td>[ever since the second grade when he first saw...</td>\n",
       "    </tr>\n",
       "  </tbody>\n",
       "</table>\n",
       "<p>4806 rows × 3 columns</p>\n",
       "</div>"
      ],
      "text/plain": [
       "          id                                     title  \\\n",
       "0      19995                                    Avatar   \n",
       "1        285  Pirates of the Caribbean: At World's End   \n",
       "2     206647                                   Spectre   \n",
       "3      49026                     The Dark Knight Rises   \n",
       "4      49529                               John Carter   \n",
       "...      ...                                       ...   \n",
       "4804    9367                               El Mariachi   \n",
       "4805   72766                                 Newlyweds   \n",
       "4806  231617                 Signed, Sealed, Delivered   \n",
       "4807  126186                          Shanghai Calling   \n",
       "4808   25975                         My Date with Drew   \n",
       "\n",
       "                                                   tags  \n",
       "0     [in the 22nd century, a paraplegic marine is d...  \n",
       "1     [captain barbossa, long believed to be dead, h...  \n",
       "2     [a cryptic message from bond’s past sends him ...  \n",
       "3     [following the death of district attorney harv...  \n",
       "4     [john carter is a war-weary, former military c...  \n",
       "...                                                 ...  \n",
       "4804  [el mariachi just wants to play his guitar and...  \n",
       "4805  [a newlywed couple's honeymoon is upended by t...  \n",
       "4806  [\"signed, sealed, delivered\" introduces a dedi...  \n",
       "4807  [when ambitious new york attorney sam is sent ...  \n",
       "4808  [ever since the second grade when he first saw...  \n",
       "\n",
       "[4806 rows x 3 columns]"
      ]
     },
     "execution_count": 39,
     "metadata": {},
     "output_type": "execute_result"
    }
   ],
   "source": [
    "new_df"
   ]
  },
  {
   "cell_type": "code",
   "execution_count": 40,
   "id": "1cff5e13",
   "metadata": {},
   "outputs": [
    {
     "name": "stdout",
     "output_type": "stream",
     "text": [
      "actionlib==1.14.0\n",
      "angles==1.9.13\n",
      "anyio==3.6.2\n",
      "apturl==0.5.2\n",
      "argon2-cffi==21.3.0\n",
      "argon2-cffi-bindings==21.2.0\n",
      "asttokens==2.2.1\n",
      "attrs==19.3.0\n",
      "autobahn==17.10.1\n",
      "Automat==0.8.0\n",
      "backcall==0.1.0\n",
      "bcrypt==3.1.7\n",
      "beautifulsoup4==4.11.2\n",
      "bleach==6.0.0\n",
      "blinker==1.4\n",
      "bondpy==1.8.6\n",
      "breezy==3.0.2\n",
      "Brlapi==0.7.0\n",
      "camera-calibration==1.17.0\n",
      "camera-calibration-parsers==1.12.0\n",
      "catkin==0.8.10\n",
      "catkin-pkg==0.5.2\n",
      "catkin-pkg-modules==0.5.2\n",
      "cbor==1.0.0\n",
      "certifi==2019.11.28\n",
      "cffi==1.15.1\n",
      "chardet==3.0.4\n",
      "Click==7.0\n",
      "colorama==0.4.3\n",
      "comm==0.1.2\n",
      "command-not-found==0.3\n",
      "configobj==5.0.6\n",
      "constantly==15.1.0\n",
      "controller-manager==0.19.6\n",
      "controller-manager-msgs==0.19.6\n",
      "cryptography==2.8\n",
      "cupshelpers==1.0\n",
      "cv-bridge==1.16.2\n",
      "cycler==0.10.0\n",
      "Cython==0.29.14\n",
      "dbus-python==1.2.16\n",
      "debugpy==1.6.6\n",
      "decorator==4.4.2\n",
      "defer==1.0.6\n",
      "defusedxml==0.6.0\n",
      "Deprecated==1.2.7\n",
      "diagnostic-analysis==1.11.0\n",
      "diagnostic-common-diagnostics==1.11.0\n",
      "diagnostic-updater==1.11.0\n",
      "distlib==0.3.6\n",
      "distro==1.4.0\n",
      "distro-info===0.23ubuntu1\n",
      "docutils==0.16\n",
      "dulwich==0.19.15\n",
      "duplicity==0.8.12.0\n",
      "dynamic-reconfigure==1.7.3\n",
      "empy==3.3.2\n",
      "entrypoints==0.3\n",
      "executing==1.2.0\n",
      "fasteners==0.14.1\n",
      "fastimport==0.9.8\n",
      "fastjsonschema==2.16.2\n",
      "filelock==3.9.0\n",
      "future==0.18.2\n",
      "gazebo-plugins==2.9.2\n",
      "gazebo-ros==2.9.2\n",
      "gencpp==0.7.0\n",
      "geneus==3.0.0\n",
      "genlisp==0.4.18\n",
      "genmsg==0.6.0\n",
      "gennodejs==2.0.2\n",
      "genpy==0.6.15\n",
      "gpg===1.13.1-unknown\n",
      "httplib2==0.14.0\n",
      "hyperlink==19.0.0\n",
      "idna==2.8\n",
      "image-geometry==1.16.2\n",
      "importlib-metadata==6.0.0\n",
      "importlib-resources==5.10.2\n",
      "incremental==16.10.1\n",
      "interactive-markers==1.12.0\n",
      "ipykernel==6.21.2\n",
      "ipython==8.10.0\n",
      "ipython-genutils==0.2.0\n",
      "ipywidgets==8.0.4\n",
      "jedi==0.18.2\n",
      "Jinja2==3.1.2\n",
      "joint-state-publisher==1.15.1\n",
      "joint-state-publisher-gui==1.15.1\n",
      "jsonschema==4.17.3\n",
      "jupyter==1.0.0\n",
      "jupyter-client==8.0.2\n",
      "jupyter-console==6.5.1\n",
      "jupyter-core==5.2.0\n",
      "jupyter-events==0.6.3\n",
      "jupyter-server==2.3.0\n",
      "jupyter-server-terminals==0.4.4\n",
      "jupyterlab-pygments==0.2.2\n",
      "jupyterlab-widgets==3.0.5\n",
      "keyring==18.0.1\n",
      "kiwisolver==1.0.1\n",
      "language-selector==0.1\n",
      "laser-geometry==1.6.7\n",
      "launchpadlib==1.10.13\n",
      "lazr.restfulclient==0.14.2\n",
      "lazr.uri==1.0.3\n",
      "lockfile==0.12.2\n",
      "louis==3.12.0\n",
      "lz4==3.0.2+dfsg\n",
      "macaroonbakery==1.3.1\n",
      "Mako==1.1.0\n",
      "MarkupSafe==2.1.2\n",
      "matplotlib==3.1.2\n",
      "matplotlib-inline==0.1.6\n",
      "message-filters==1.15.15\n",
      "mistune==2.0.5\n",
      "monotonic==1.5\n",
      "mpi4py==3.0.3\n",
      "nbclassic==0.5.1\n",
      "nbclient==0.7.2\n",
      "nbconvert==7.2.9\n",
      "nbformat==5.7.3\n",
      "nest-asyncio==1.5.6\n",
      "netifaces==0.10.4\n",
      "nose==1.3.7\n",
      "notebook==6.5.2\n",
      "notebook-shim==0.2.2\n",
      "numpy==1.24.2\n",
      "oauthlib==3.1.0\n",
      "olefile==0.46\n",
      "packaging==23.0\n",
      "pandas==1.5.3\n",
      "pandocfilters==1.5.0\n",
      "paramiko==2.6.0\n",
      "parso==0.8.3\n",
      "pexpect==4.6.0\n",
      "pickleshare==0.7.5\n",
      "Pillow==7.0.0\n",
      "pkgutil-resolve-name==1.3.10\n",
      "platformdirs==3.0.0\n",
      "prometheus-client==0.16.0\n",
      "prompt-toolkit==3.0.36\n",
      "protobuf==3.6.1\n",
      "psutil==5.5.1\n",
      "ptyprocess==0.7.0\n",
      "pure-eval==0.2.2\n",
      "py-ubjson==0.14.0\n",
      "pyasn1==0.4.2\n",
      "pyasn1-modules==0.2.1\n",
      "pycairo==1.16.2\n",
      "pycparser==2.21\n",
      "pycryptodomex==3.6.1\n",
      "pycups==1.9.73\n",
      "pydot==1.4.1\n",
      "PyGithub==1.43.7\n",
      "Pygments==2.14.0\n",
      "PyGObject==3.36.0\n",
      "PyHamcrest==1.9.0\n",
      "PyJWT==1.7.1\n",
      "pymacaroons==0.13.0\n",
      "PyNaCl==1.3.0\n",
      "PyOpenGL==3.1.0\n",
      "pyOpenSSL==19.0.0\n",
      "pyparsing==2.4.6\n",
      "pypng==0.0.20\n",
      "PyQRCode==1.2.1\n",
      "PyQt5==5.14.1\n",
      "pyRFC3339==1.1\n",
      "pyrsistent==0.19.3\n",
      "python-apt==2.0.1\n",
      "python-dateutil==2.8.2\n",
      "python-debian===0.1.36ubuntu1\n",
      "python-gitlab==2.0.1\n",
      "python-gnupg==0.4.5\n",
      "python-json-logger==2.0.6\n",
      "python-qt-binding==0.4.4\n",
      "python-snappy==0.5.3\n",
      "PyTrie==0.2\n",
      "pytz==2022.7.1\n",
      "pyxdg==0.26\n",
      "PyYAML==5.3.1\n",
      "pyzmq==25.0.0\n",
      "qt-dotgraph==0.4.2\n",
      "qt-gui==0.4.2\n",
      "qt-gui-cpp==0.4.2\n",
      "qt-gui-py-common==0.4.2\n",
      "qtconsole==5.4.0\n",
      "QtPy==2.3.0\n",
      "reportlab==3.5.34\n",
      "requests==2.22.0\n",
      "requests-unixsocket==0.2.0\n",
      "resource-retriever==1.12.7\n",
      "rfc3339-validator==0.1.4\n",
      "rfc3986-validator==0.1.1\n",
      "roman==2.0.0\n",
      "rosbag==1.15.15\n",
      "rosboost-cfg==1.15.8\n",
      "rosclean==1.15.8\n",
      "roscreate==1.15.8\n",
      "rosdep==0.22.1\n",
      "rosdep-modules==0.22.1\n",
      "rosdistro==0.9.0\n",
      "rosdistro-modules==0.9.0\n",
      "rosgraph==1.15.15\n",
      "rosinstall==0.7.8\n",
      "rosinstall-generator==0.1.22\n",
      "roslaunch==1.15.15\n",
      "roslib==1.15.8\n",
      "roslint==0.12.0\n",
      "roslz4==1.15.15\n",
      "rosmake==1.15.8\n",
      "rosmaster==1.15.15\n",
      "rosmsg==1.15.15\n",
      "rosnode==1.15.15\n",
      "rosparam==1.15.15\n",
      "rospkg==1.4.0\n",
      "rospkg-modules==1.4.0\n",
      "rospy==1.15.15\n",
      "rosservice==1.15.15\n",
      "rostest==1.15.15\n",
      "rostopic==1.15.15\n",
      "rosunit==1.15.8\n",
      "roswtf==1.15.15\n",
      "rqt-action==0.4.9\n",
      "rqt-bag==0.5.1\n",
      "rqt-bag-plugins==0.5.1\n",
      "rqt-console==0.4.11\n",
      "rqt-dep==0.4.12\n",
      "rqt-graph==0.4.14\n",
      "rqt-gui==0.5.3\n",
      "rqt-gui-py==0.5.3\n",
      "rqt-image-view==0.4.16\n",
      "rqt-launch==0.4.9\n",
      "rqt-logger-level==0.4.11\n",
      "rqt-moveit==0.5.10\n",
      "rqt-msg==0.4.10\n",
      "rqt-nav-view==0.5.7\n",
      "rqt-plot==0.4.13\n",
      "rqt-pose-view==0.5.11\n",
      "rqt-publisher==0.4.10\n",
      "rqt-py-common==0.5.3\n",
      "rqt-py-console==0.4.10\n",
      "rqt-reconfigure==0.5.5\n",
      "rqt-robot-dashboard==0.5.8\n",
      "rqt-robot-monitor==0.5.14\n",
      "rqt-robot-steering==0.5.12\n",
      "rqt-runtime-monitor==0.5.9\n",
      "rqt-rviz==0.7.0\n",
      "rqt-service-caller==0.4.10\n",
      "rqt-shell==0.4.11\n",
      "rqt-srv==0.4.9\n",
      "rqt-tf-tree==0.6.3\n",
      "rqt-top==0.4.10\n",
      "rqt-topic==0.4.13\n",
      "rqt-web==0.4.10\n",
      "rviz==1.14.19\n",
      "SecretStorage==2.3.1\n",
      "Send2Trash==1.8.0\n",
      "sensor-msgs==1.13.1\n",
      "service-identity==18.1.0\n",
      "simplejson==3.16.0\n",
      "sip==4.19.21\n",
      "six==1.14.0\n",
      "smach==2.5.0\n",
      "smach-ros==2.5.0\n",
      "smclib==1.8.6\n",
      "sniffio==1.3.0\n",
      "soupsieve==2.4\n",
      "stack-data==0.6.2\n",
      "systemd-python==234\n",
      "terminado==0.17.1\n",
      "tf==1.13.2\n",
      "tf-conversions==1.13.2\n",
      "tf2-geometry-msgs==0.7.6\n",
      "tf2-kdl==0.7.6\n",
      "tf2-py==0.7.6\n",
      "tf2-ros==0.7.6\n",
      "tinycss2==1.2.1\n",
      "topic-tools==1.15.15\n",
      "tornado==6.2\n",
      "traitlets==5.9.0\n",
      "Twisted==18.9.0\n",
      "txaio==2.10.0\n",
      "u-msgpack-python==2.1\n",
      "ubuntu-advantage-tools==20.3\n",
      "ubuntu-drivers-common==0.0.0\n",
      "ufw==0.36\n",
      "unattended-upgrades==0.1\n",
      "urllib3==1.25.8\n",
      "usb-creator==0.3.7\n",
      "vcstools==0.1.42\n",
      "virtualenv==20.19.0\n",
      "wadllib==1.3.3\n",
      "wcwidth==0.1.8\n",
      "webencodings==0.5.1\n",
      "websocket-client==1.5.1\n",
      "widgetsnbextension==4.0.5\n",
      "wrapt==1.11.2\n",
      "wsaccel==0.6.2\n",
      "wstool==0.1.18\n",
      "xacro==1.14.14\n",
      "xkit==0.0.0\n",
      "zipp==3.13.0\n",
      "zope.interface==4.7.1\n",
      "Note: you may need to restart the kernel to use updated packages.\n"
     ]
    }
   ],
   "source": [
    "pip freeze requirements.txt"
   ]
  },
  {
   "cell_type": "code",
   "execution_count": 1,
   "id": "f16f6c84",
   "metadata": {},
   "outputs": [],
   "source": [
    "from sklearn.feature_extraction.text import CountVectorizer"
   ]
  },
  {
   "cell_type": "code",
   "execution_count": null,
   "id": "b502882a",
   "metadata": {},
   "outputs": [],
   "source": [
    "cv=CountVectorizer(5000, stop_words='english')"
   ]
  }
 ],
 "metadata": {
  "kernelspec": {
   "display_name": "Python 3 (ipykernel)",
   "language": "python",
   "name": "python3"
  },
  "language_info": {
   "codemirror_mode": {
    "name": "ipython",
    "version": 3
   },
   "file_extension": ".py",
   "mimetype": "text/x-python",
   "name": "python",
   "nbconvert_exporter": "python",
   "pygments_lexer": "ipython3",
   "version": "3.8.10"
  }
 },
 "nbformat": 4,
 "nbformat_minor": 5
}
